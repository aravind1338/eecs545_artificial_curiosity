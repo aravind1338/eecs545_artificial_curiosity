{
 "metadata": {
  "language_info": {
   "codemirror_mode": {
    "name": "ipython",
    "version": 3
   },
   "file_extension": ".py",
   "mimetype": "text/x-python",
   "name": "python",
   "nbconvert_exporter": "python",
   "pygments_lexer": "ipython3",
   "version": "3.9.0-final"
  },
  "orig_nbformat": 2,
  "kernelspec": {
   "name": "python3",
   "display_name": "Python 3"
  }
 },
 "nbformat": 4,
 "nbformat_minor": 2,
 "cells": [
  {
   "cell_type": "code",
   "execution_count": 1,
   "metadata": {},
   "outputs": [],
   "source": [
    "import tensorflow as tf\n",
    "from Memory import Memory\n",
    "from Experience import Experience\n",
    "from Map import Map\n",
    "import novelty\n",
    "from tensorflow.keras.models import Model\n",
    "from tensorflow.keras import layers\n",
    "from tensorflow import keras\n",
    "import numpy as np\n",
    "from PIL import Image\n",
    "import os\n",
    "from typing import List\n",
    "from ArtificialCuriosityTypes import ArtificialCuriosityTypes as act\n",
    "os.environ['TF_CPP_MIN_LOG_LEVEL'] = '2'\n",
    "\n",
    "\n",
    "\n",
    "from matplotlib.pyplot import imshow"
   ]
  },
  {
   "cell_type": "code",
   "execution_count": 29,
   "metadata": {},
   "outputs": [],
   "source": [
    "class New_Brain:\n",
    "    def __init__(self, nov_thresh: float, novelty_function: novelty):\n",
    "        self.nov_thresh = nov_thresh\n",
    "        self.novelty_function = novelty_function\n",
    "        self._init_CNN()\n",
    "        self._init_AE()\n",
    "\n",
    "    def _init_CNN(self):\n",
    "        self._CNN_Base = keras.applications.VGG16(include_top=True)\n",
    "        self._CNN_Base.trainable = False\n",
    "        self._CNN = keras.Model(inputs=self._CNN_Base.layers[0].input, outputs=self._CNN_Base.layers[-2].input)\n",
    "\n",
    "    def _init_AE(self):\n",
    "        # vgg output is 4096\n",
    "        input_vec = layers.Input(shape=(4096,))\n",
    "        encoder1 = layers.Dense(2048, 'sigmoid')(input_vec)\n",
    "        encoder2 = layers.Dense(1024, 'sigmoid')(encoder1)\n",
    "        encoder3 = layers.Dense(512, 'sigmoid')(encoder2)\n",
    "        # decoder\n",
    "        decoder1 = layers.Dense(1024, 'sigmoid')(encoder3)\n",
    "        decoder2 = layers.Dense(2048, 'sigmoid')(decoder1)\n",
    "        decoder3 = layers.Dense(4096, 'sigmoid')(decoder2)\n",
    "\n",
    "        self._AE = Model(inputs=input_vec, outputs=decoder3)\n",
    "\n",
    "    def _prep_single_grain(self, grain):\n",
    "        grain = keras.preprocessing.image.img_to_array(grain)\n",
    "        grain = tf.image.per_image_standardization(grain)\n",
    "        grain = tf.image.resize(grain, (224, 224))\n",
    "        grain = tf.reshape(grain, (224, 224, 3))\n",
    "\n",
    "        return grain\n",
    "\n",
    "    def _prep_directional_grains(self, grains):\n",
    "        # right now set to 4, but will probably want more in the future\n",
    "        return tf.data.Dataset.from_tensor_slices(list(map(self._prep_single_grain, grains))).batch(4)\n",
    "\n",
    "    def _CNN_process_grains(self, vect_images):\n",
    "        return self._CNN(list(iter(vect_images))[0])\n",
    "\n",
    "    def _run_through_main_model(self, grains):\n",
    "        vect_images = self._prep_directional_grains(grains)\n",
    "        feature_vects = self._CNN(list(iter(vect_images))[0])\n",
    "        reconstructed = self._AE(feature_vects)\n",
    "        return list(zip(feature_vects, reconstructed))\n",
    "\n",
    "    def eval_novelty(self, grains: List[act.Grain]):\n",
    "        pass\n",
    "\n",
    "    def learn_grains(self, grains: List[act.Grain], memory: Memory = None):\n",
    "        pass"
   ]
  },
  {
   "cell_type": "code",
   "execution_count": 4,
   "metadata": {},
   "outputs": [],
   "source": [
    "nb = New_Brain(0.5, None)"
   ]
  },
  {
   "cell_type": "code",
   "execution_count": 5,
   "metadata": {
    "tags": []
   },
   "outputs": [],
   "source": [
    "im = Image.open(\"x.jpg\")"
   ]
  },
  {
   "cell_type": "code",
   "execution_count": 6,
   "metadata": {},
   "outputs": [
    {
     "output_type": "execute_result",
     "data": {
      "text/plain": [
       "[(<tf.Tensor: shape=(4096,), dtype=float32, numpy=\n",
       "  array([0.       , 1.1585238, 0.       , ..., 0.       , 1.401871 ,\n",
       "         0.       ], dtype=float32)>,\n",
       "  <tf.Tensor: shape=(4096,), dtype=float32, numpy=\n",
       "  array([0.50530785, 0.51404357, 0.51217115, ..., 0.4884638 , 0.49615696,\n",
       "         0.46672434], dtype=float32)>),\n",
       " (<tf.Tensor: shape=(4096,), dtype=float32, numpy=\n",
       "  array([0.       , 1.1585238, 0.       , ..., 0.       , 1.401871 ,\n",
       "         0.       ], dtype=float32)>,\n",
       "  <tf.Tensor: shape=(4096,), dtype=float32, numpy=\n",
       "  array([0.50530785, 0.51404357, 0.51217115, ..., 0.4884638 , 0.49615696,\n",
       "         0.46672434], dtype=float32)>),\n",
       " (<tf.Tensor: shape=(4096,), dtype=float32, numpy=\n",
       "  array([0.       , 1.1585238, 0.       , ..., 0.       , 1.401871 ,\n",
       "         0.       ], dtype=float32)>,\n",
       "  <tf.Tensor: shape=(4096,), dtype=float32, numpy=\n",
       "  array([0.50530785, 0.51404357, 0.51217115, ..., 0.4884638 , 0.49615696,\n",
       "         0.46672434], dtype=float32)>),\n",
       " (<tf.Tensor: shape=(4096,), dtype=float32, numpy=\n",
       "  array([0.       , 1.1585238, 0.       , ..., 0.       , 1.401871 ,\n",
       "         0.       ], dtype=float32)>,\n",
       "  <tf.Tensor: shape=(4096,), dtype=float32, numpy=\n",
       "  array([0.50530785, 0.51404357, 0.51217115, ..., 0.4884638 , 0.49615696,\n",
       "         0.46672434], dtype=float32)>)]"
      ]
     },
     "metadata": {},
     "execution_count": 6
    }
   ],
   "source": [
    "nb._run_through_main_model([im, im, im, im])"
   ]
  },
  {
   "cell_type": "code",
   "execution_count": 3,
   "metadata": {},
   "outputs": [],
   "source": [
    "from New_Brain import New_Brain"
   ]
  },
  {
   "cell_type": "code",
   "execution_count": null,
   "metadata": {},
   "outputs": [],
   "source": []
  }
 ]
}